{
 "cells": [
  {
   "cell_type": "markdown",
   "id": "58419124-b71e-40c0-9e5d-f20b748ab83c",
   "metadata": {
    "tags": []
   },
   "source": [
    "## BASIC , INTERMEDIATE , ADVANCE LEVEL"
   ]
  },
  {
   "cell_type": "markdown",
   "id": "5d7b8655-3dbb-4f98-8463-1925a0af481c",
   "metadata": {},
   "source": [
    "1. Write a Python program to check if a given number is positive or negative."
   ]
  },
  {
   "cell_type": "code",
   "execution_count": 48,
   "id": "92ff7631-367e-4495-8263-7cab18368931",
   "metadata": {},
   "outputs": [
    {
     "name": "stdin",
     "output_type": "stream",
     "text": [
      "enter the number 4\n"
     ]
    },
    {
     "name": "stdout",
     "output_type": "stream",
     "text": [
      "number is positive\n"
     ]
    }
   ],
   "source": [
    "a = int(input('enter the number'))\n",
    "if a<0:\n",
    "    print('number is negative')\n",
    "else:\n",
    "    print('number is positive')"
   ]
  },
  {
   "cell_type": "markdown",
   "id": "c84c9a9c-fe19-4b00-bc14-e28680601694",
   "metadata": {},
   "source": [
    "2. Create a program that determines if a person is eligible to vote based on their age."
   ]
  },
  {
   "cell_type": "code",
   "execution_count": 50,
   "id": "2c744a5e-e516-47b2-8c20-23c870b81d9b",
   "metadata": {},
   "outputs": [
    {
     "name": "stdin",
     "output_type": "stream",
     "text": [
      "enter the age 5\n"
     ]
    },
    {
     "name": "stdout",
     "output_type": "stream",
     "text": [
      "person not elligible for vote\n"
     ]
    }
   ],
   "source": [
    "age = int(input('enter the age'))\n",
    "if age<18:\n",
    "    print('person not elligible for vote')\n",
    "else:\n",
    "    print('person is elligible for vote')"
   ]
  },
  {
   "cell_type": "markdown",
   "id": "b8e8d6ac-492d-41f6-bf46-8fc73c0d896c",
   "metadata": {},
   "source": [
    "3. Develop a program to find the maximum of two numbers using if-else statements."
   ]
  },
  {
   "cell_type": "code",
   "execution_count": 51,
   "id": "b4292443-7272-4b9c-b23d-07314a02953d",
   "metadata": {},
   "outputs": [
    {
     "name": "stdin",
     "output_type": "stream",
     "text": [
      "enter 1 the number 5\n",
      "enter 2the number 7\n"
     ]
    },
    {
     "name": "stdout",
     "output_type": "stream",
     "text": [
      "the max number is 7\n"
     ]
    }
   ],
   "source": [
    "a = int(input('enter 1 the number'))\n",
    "b = int(input('enter 2the number'))\n",
    "if max(a,b):\n",
    "    result = max(a,b)\n",
    "    print('the max number is',result)"
   ]
  },
  {
   "cell_type": "markdown",
   "id": "50316e2e-1fb5-4fd1-959f-a844cc2f705d",
   "metadata": {},
   "source": [
    "4. Write a Python script to classify a given year as a leap year or not."
   ]
  },
  {
   "cell_type": "code",
   "execution_count": 52,
   "id": "d0fb6ba1-3c19-46fd-9501-c1a285df63c9",
   "metadata": {},
   "outputs": [
    {
     "name": "stdin",
     "output_type": "stream",
     "text": [
      "enter the year 2018\n"
     ]
    },
    {
     "name": "stdout",
     "output_type": "stream",
     "text": [
      "year is not leap year\n"
     ]
    }
   ],
   "source": [
    "year=int(input('enter the year'))\n",
    "if year%4==0:\n",
    "    print('year is leap year')\n",
    "else:\n",
    "    print('year is not leap year')"
   ]
  },
  {
   "cell_type": "markdown",
   "id": "7b1376c3-904c-4fe5-a112-60c6b436fb3d",
   "metadata": {},
   "source": [
    "5. Create a program that checks whether a character is a vowel or a consonant."
   ]
  },
  {
   "cell_type": "code",
   "execution_count": 14,
   "id": "2f9476a2-4cbd-44c4-b3d8-4e57c23f3649",
   "metadata": {},
   "outputs": [
    {
     "name": "stdin",
     "output_type": "stream",
     "text": [
      "enter the character a\n"
     ]
    },
    {
     "name": "stdout",
     "output_type": "stream",
     "text": [
      "a is a vowels\n"
     ]
    }
   ],
   "source": [
    "char = input('enter the character')\n",
    "if char=='a' or char=='e' or char=='i' or char=='o' or char=='u':\n",
    "    print(char,'is a vowels')\n",
    "else:\n",
    "    print(char,'consonent')"
   ]
  },
  {
   "cell_type": "markdown",
   "id": "2b5daff7-8e4b-44a3-9c59-f02cb7b6cf8b",
   "metadata": {},
   "source": [
    "6. Implement a program to determine whether a given number is even or odd."
   ]
  },
  {
   "cell_type": "code",
   "execution_count": 17,
   "id": "e184313f-e24c-4a18-ab73-811098fe02bb",
   "metadata": {},
   "outputs": [
    {
     "name": "stdin",
     "output_type": "stream",
     "text": [
      "enter the number 3\n"
     ]
    },
    {
     "name": "stdout",
     "output_type": "stream",
     "text": [
      "number is odd\n"
     ]
    }
   ],
   "source": [
    "num = int(input('enter the number'))\n",
    "if num %2==0:\n",
    "    print('number is even')\n",
    "else:\n",
    "    print('number is odd')"
   ]
  },
  {
   "cell_type": "markdown",
   "id": "0aaa3ddb-6746-4200-a373-078ca5153b09",
   "metadata": {},
   "source": [
    "7. Write a Python function to calculate the absolute value of a number without using the `abs()` function.\n"
   ]
  },
  {
   "cell_type": "code",
   "execution_count": 28,
   "id": "b0c8578b-0466-40b5-a7d1-3e5b19475901",
   "metadata": {},
   "outputs": [
    {
     "name": "stdout",
     "output_type": "stream",
     "text": [
      "10.0\n",
      "20.0\n",
      "0.0\n"
     ]
    }
   ],
   "source": [
    "import math\n",
    "\n",
    "def absolute_value(num):\n",
    "    \"\"\"This function returns the absolute\n",
    "    value of the entered number\"\"\"\n",
    "\n",
    "    return math.sqrt(num ** 2)\n",
    "\n",
    "\n",
    "print(absolute_value(10)) \n",
    "print(absolute_value(-20)) \n",
    "print(absolute_value(0)) "
   ]
  },
  {
   "cell_type": "markdown",
   "id": "aa3c2f28-516a-41f4-8343-cc45f3d7d854",
   "metadata": {},
   "source": [
    "8. Develop a program that determines the largest of three given numbers using if-else statements."
   ]
  },
  {
   "cell_type": "code",
   "execution_count": 34,
   "id": "a1828d48-b155-4c64-80f9-7433ce1062dc",
   "metadata": {},
   "outputs": [
    {
     "name": "stdout",
     "output_type": "stream",
     "text": [
      "the largest of given number is  56\n"
     ]
    }
   ],
   "source": [
    "a = 23,56,23\n",
    "if max(a):\n",
    "    print('the largest of given number is ',max(a))\n",
    "else:\n",
    "    print('nothing')"
   ]
  },
  {
   "cell_type": "markdown",
   "id": "9c66db17-da1c-4ed5-a6b5-7a45a6d0eeef",
   "metadata": {},
   "source": [
    "9. Create a program that checks if a given string is a palindrome."
   ]
  },
  {
   "cell_type": "code",
   "execution_count": 42,
   "id": "bebe714f-2e1c-4ccf-9324-ce5e97781cfd",
   "metadata": {},
   "outputs": [
    {
     "name": "stdout",
     "output_type": "stream",
     "text": [
      "palindrome\n"
     ]
    }
   ],
   "source": [
    "s='mom'\n",
    "if s[::-1]==s:\n",
    "    print('palindrome')\n",
    "else:\n",
    "    print('not palindrome')"
   ]
  },
  {
   "cell_type": "markdown",
   "id": "a79ad7ed-e166-4101-b4f7-ed6d3d5958e0",
   "metadata": {},
   "source": [
    "10. Write a Python program to calculate the grade based on a student's score."
   ]
  },
  {
   "cell_type": "code",
   "execution_count": 50,
   "id": "f7705c5d-9386-4e54-8bee-5e1fa8bb6880",
   "metadata": {},
   "outputs": [
    {
     "name": "stdin",
     "output_type": "stream",
     "text": [
      "enter the number 82\n"
     ]
    },
    {
     "name": "stdout",
     "output_type": "stream",
     "text": [
      "A+ grade\n"
     ]
    }
   ],
   "source": [
    "num = int(input('enter the number'))\n",
    "if num<=30:\n",
    "    print('c grade')\n",
    "elif num<=60:\n",
    "    print('b grade')\n",
    "elif num<=80:\n",
    "    print('b+ grade')\n",
    "else:\n",
    "    print('A+ grade')"
   ]
  },
  {
   "cell_type": "markdown",
   "id": "e387c93e-d083-411a-bd19-c638abefcacf",
   "metadata": {},
   "source": [
    "11. Write a program to find the largest among three numbers using nested if-else statements."
   ]
  },
  {
   "cell_type": "code",
   "execution_count": 52,
   "id": "c96d8e9d-316c-4174-aa07-e5ccdbb6477f",
   "metadata": {},
   "outputs": [
    {
     "name": "stdout",
     "output_type": "stream",
     "text": [
      "50 is the largest of three numbers.\n"
     ]
    }
   ],
   "source": [
    "a= 30\n",
    "b= 40\n",
    "c = 50\n",
    "if a>b and a>c:\n",
    "    largest=a\n",
    "elif b>c:\n",
    "    largest=b\n",
    "else:\n",
    "    largest=c\n",
    "print(largest, \"is the largest of three numbers.\")"
   ]
  },
  {
   "cell_type": "markdown",
   "id": "bb076810-8b49-4ac3-b9df-1a795a61cb1f",
   "metadata": {},
   "source": [
    "12. Implement a program to determine if a triangle is equilateral, isosceles, or scalene."
   ]
  },
  {
   "cell_type": "code",
   "execution_count": 55,
   "id": "295718ba-c8e4-4ab3-8261-72cfae27688f",
   "metadata": {},
   "outputs": [
    {
     "name": "stdout",
     "output_type": "stream",
     "text": [
      "scalence\n"
     ]
    }
   ],
   "source": [
    "x = 8 \n",
    "y =7\n",
    "z =9\n",
    "if x==y==z:\n",
    "    print('equilateral triangle')\n",
    "elif x==y or y==z or z==x :\n",
    "    print('isoselous triangle')\n",
    "else:\n",
    "    print('scalence')"
   ]
  },
  {
   "cell_type": "markdown",
   "id": "3bde1f82-3fcc-4000-8c1b-54a22f196558",
   "metadata": {},
   "source": [
    "13. Develop a program that checks if a year is a leap year and also if it is a century year."
   ]
  },
  {
   "cell_type": "code",
   "execution_count": 63,
   "id": "4d23c465-48f5-471c-93ad-f8998ea8b32e",
   "metadata": {},
   "outputs": [
    {
     "name": "stdout",
     "output_type": "stream",
     "text": [
      "21 century\n"
     ]
    }
   ],
   "source": [
    "\n",
    "  \n",
    "def find_century(year):\n",
    "    \n",
    "\n",
    "    if (year <= 0):\n",
    "        print(\"0 and negative is not allow for a year\")\n",
    "          \n",
    "\n",
    "    elif (year <= 100):\n",
    "        print(\"1st century\")\n",
    "    elif (year % 100 == 0):\n",
    "        print(year // 100,\"century\")\n",
    "    else:\n",
    "        print(year // 100 + 1,\"century\")\n",
    "year= 2001\n",
    "find_century(year)"
   ]
  },
  {
   "cell_type": "markdown",
   "id": "01983c33-1a49-434c-9d43-81344fe76044",
   "metadata": {},
   "source": [
    "14. Write a Python script to determine if a number is positive, negative, or zero."
   ]
  },
  {
   "cell_type": "code",
   "execution_count": 68,
   "id": "7262a2ff-bae1-4a9f-a6f2-580e6b3dd03d",
   "metadata": {},
   "outputs": [
    {
     "name": "stdin",
     "output_type": "stream",
     "text": [
      "enter the number 9\n"
     ]
    },
    {
     "name": "stdout",
     "output_type": "stream",
     "text": [
      "positive number\n"
     ]
    }
   ],
   "source": [
    "num = int(input('enter the number'))\n",
    "if num>0:\n",
    "    print('positive number')\n",
    "elif num<0:\n",
    "    print('negative number')\n",
    "else:\n",
    "    num==0\n",
    "    print('zero')"
   ]
  },
  {
   "cell_type": "markdown",
   "id": "fd2c18db-c8c0-4886-b347-57ba3d5cbe36",
   "metadata": {},
   "source": [
    "15. Create a program to check if a person is a teenager (between 13 and 19 years old)."
   ]
  },
  {
   "cell_type": "code",
   "execution_count": 71,
   "id": "e5c9f573-a5c2-47a7-b621-9e46618d2bd3",
   "metadata": {},
   "outputs": [
    {
     "name": "stdin",
     "output_type": "stream",
     "text": [
      "enter the age 20\n"
     ]
    },
    {
     "name": "stdout",
     "output_type": "stream",
     "text": [
      "not teenager\n"
     ]
    }
   ],
   "source": [
    "age = int(input('enter the age'))\n",
    "if age<=13 or age<=19:\n",
    "    print('teenager')\n",
    "else:\n",
    "    print('not teenager')\n",
    "    "
   ]
  },
  {
   "cell_type": "markdown",
   "id": "d4e979bf-4e60-426d-b977-bdfe9b4e4f3f",
   "metadata": {},
   "source": [
    "17. Write a Python program to calculate the roots of a quadratic equation."
   ]
  },
  {
   "cell_type": "code",
   "execution_count": 73,
   "id": "57cfa6de-0c61-4b20-a69f-bb2804229eec",
   "metadata": {},
   "outputs": [
    {
     "name": "stdout",
     "output_type": "stream",
     "text": [
      "Equation: ax^2 + bx + c \n"
     ]
    },
    {
     "name": "stdin",
     "output_type": "stream",
     "text": [
      "Enter a:  4\n",
      "Enter b:  5\n",
      "Enter c:  5\n"
     ]
    },
    {
     "name": "stdout",
     "output_type": "stream",
     "text": [
      "The roots are imaginary. \n"
     ]
    }
   ],
   "source": [
    "print(\"Equation: ax^2 + bx + c \")\n",
    "a=int(input(\"Enter a: \"))\n",
    "b=int(input(\"Enter b: \"))\n",
    "c=int(input(\"Enter c: \"))\n",
    "d=b**2-4*a*c\n",
    "d1=d**0.5\n",
    "if(d<0):\n",
    "    print(\"The roots are imaginary. \")\n",
    "else:\n",
    "    r1=(-b+d1)/2*a\n",
    "    r2=(-b-d1)/2*a\n",
    "    print(\"The first root: \",round(r1,2))\n",
    "    print(\"The second root: \",round(r2,2))"
   ]
  },
  {
   "cell_type": "markdown",
   "id": "bd1bee96-2f4e-42d6-bc86-d6135cede8ea",
   "metadata": {},
   "source": [
    "18. Implement a program to determine the day of the week based on a user-provided number (1 for Monday, 2\n",
    "for Tuesday, etc.)."
   ]
  },
  {
   "cell_type": "code",
   "execution_count": 76,
   "id": "d3340f50-afa2-4f67-b6f6-d62f8c808635",
   "metadata": {},
   "outputs": [
    {
     "name": "stdin",
     "output_type": "stream",
     "text": [
      "enter the day tuesday\n"
     ]
    },
    {
     "name": "stdout",
     "output_type": "stream",
     "text": [
      "2\n"
     ]
    }
   ],
   "source": [
    "day = input('enter the day')\n",
    "if day=='monday':\n",
    "    print('1')\n",
    "elif day=='tuesday':\n",
    "    print('2')\n",
    "elif day=='wednesday':\n",
    "    print('3')\n",
    "elif day=='thursday':\n",
    "    print('4')\n",
    "elif day=='friday':\n",
    "    print('5')\n",
    "elif day=='saturday':\n",
    "    print('6')\n",
    "else:\n",
    "    day=='sunday'\n",
    "    print('7')\n",
    "        "
   ]
  },
  {
   "cell_type": "markdown",
   "id": "44c3e314-7b67-4874-85a1-831a9a929e8a",
   "metadata": {},
   "source": [
    "20. Develop a program that checks if a given number is prime or not using nested if-else statements."
   ]
  },
  {
   "cell_type": "code",
   "execution_count": 78,
   "id": "4e7af343-df3b-41dd-a9dd-4e535f58e2d3",
   "metadata": {},
   "outputs": [
    {
     "name": "stdin",
     "output_type": "stream",
     "text": [
      "enter the number 5\n"
     ]
    },
    {
     "name": "stdout",
     "output_type": "stream",
     "text": [
      "prime number\n"
     ]
    }
   ],
   "source": [
    "num = int(input('enter the number'))\n",
    "if num%2!=0:\n",
    "    print('prime number')\n",
    "else:\n",
    "    print('not a prime number')"
   ]
  },
  {
   "cell_type": "markdown",
   "id": "b3950c35-7cfe-4436-8edc-0c38f098cbb7",
   "metadata": {
    "tags": []
   },
   "source": [
    "## Elif Statements:"
   ]
  },
  {
   "cell_type": "markdown",
   "id": "9f4e2eac-7e10-4742-9284-b67c800f8c9a",
   "metadata": {},
   "source": [
    "21. Write a Python program to assign grades based on different ranges of scores using elif statements."
   ]
  },
  {
   "cell_type": "code",
   "execution_count": 2,
   "id": "4a037a5e-c77b-4b1e-9a23-aa827e3a33e6",
   "metadata": {},
   "outputs": [
    {
     "name": "stdin",
     "output_type": "stream",
     "text": [
      "enetr the marks 90\n"
     ]
    },
    {
     "name": "stdout",
     "output_type": "stream",
     "text": [
      "A grade\n"
     ]
    }
   ],
   "source": [
    "marks= int(input('enetr the marks'))\n",
    "if marks<=30:\n",
    "    print('c grade')\n",
    "elif marks<=60:\n",
    "    print('b grade')\n",
    "elif marks<=80:\n",
    "    print('B grade')\n",
    "else:\n",
    "    marks<100\n",
    "    print('A grade')"
   ]
  },
  {
   "cell_type": "markdown",
   "id": "652f2c90-5da7-4052-a257-cf8934dab5a2",
   "metadata": {},
   "source": [
    "22. Implement a program to determine the type of a triangle based on its angles."
   ]
  },
  {
   "cell_type": "code",
   "execution_count": 9,
   "id": "67f24e70-2ab4-4e14-8fff-53c98060766b",
   "metadata": {},
   "outputs": [
    {
     "name": "stdin",
     "output_type": "stream",
     "text": [
      "side a 2\n",
      "side b 4\n",
      "side c 6\n"
     ]
    },
    {
     "name": "stdout",
     "output_type": "stream",
     "text": [
      "Triangle is Scalane\n"
     ]
    }
   ],
   "source": [
    "a = int(input('side a'))\n",
    "b = int(input('side b'))\n",
    "c = int(input('side c'))\n",
    "if a==b and b==c:\n",
    "    print('equilateral triagle')\n",
    "elif a==b or b==c or a==c:\n",
    "    print('Triangle is Isosceles.')\n",
    "else:\n",
    "    print('Triangle is Scalane')"
   ]
  },
  {
   "cell_type": "markdown",
   "id": "5173b4e9-4c6e-4921-8d15-e8ee67012a0d",
   "metadata": {},
   "source": [
    "23. Develop a program to categorize a given person's BMI into underweight, normal, overweight, or obese using\n",
    "elif statements."
   ]
  },
  {
   "cell_type": "code",
   "execution_count": 17,
   "id": "0c65d7b6-5dd8-4958-a04f-9419338b0370",
   "metadata": {},
   "outputs": [
    {
     "name": "stdin",
     "output_type": "stream",
     "text": [
      "enter weight 40\n"
     ]
    },
    {
     "name": "stdout",
     "output_type": "stream",
     "text": [
      "Bmi is normal\n"
     ]
    }
   ],
   "source": [
    "weight=int(input('enter weight'))\n",
    "if weight<=60:\n",
    "    print('Bmi is normal')\n",
    "elif weight>=80:\n",
    "    print('Bmi is overwight')\n",
    "else:\n",
    "    weight>=100\n",
    "    print('Bmi is onese')"
   ]
  },
  {
   "cell_type": "markdown",
   "id": "d2c36242-f998-4c16-8455-5c84a1c3121f",
   "metadata": {},
   "source": [
    "24. Create a program that determines whether a given number is positive, negative, or zero using elif\n",
    "statements."
   ]
  },
  {
   "cell_type": "code",
   "execution_count": 22,
   "id": "44318cf1-de97-4375-92c5-adaa22b9bad3",
   "metadata": {},
   "outputs": [
    {
     "name": "stdin",
     "output_type": "stream",
     "text": [
      "enter the number 90\n"
     ]
    },
    {
     "name": "stdout",
     "output_type": "stream",
     "text": [
      "positive\n"
     ]
    }
   ],
   "source": [
    "num = int(input('enter the number'))\n",
    "if num<0:\n",
    "    print('negative')\n",
    "elif num>0:\n",
    "    print('positive')\n",
    "else:\n",
    "    num=0\n",
    "    print('zero')"
   ]
  },
  {
   "cell_type": "markdown",
   "id": "8b69b34a-cf6f-4a80-8e08-a36734939c23",
   "metadata": {},
   "source": [
    "25. Write a Python script to determine the type of a character (uppercase, lowercase, or special) using elif\n",
    "statements."
   ]
  },
  {
   "cell_type": "code",
   "execution_count": 28,
   "id": "3dde3798-181d-4adc-a224-c9ac816446ee",
   "metadata": {},
   "outputs": [
    {
     "name": "stdin",
     "output_type": "stream",
     "text": [
      "enter the string AVICHAL\n"
     ]
    },
    {
     "name": "stdout",
     "output_type": "stream",
     "text": [
      "uppercase\n"
     ]
    }
   ],
   "source": [
    "string =input('enter the string')\n",
    "if string.upper() in string:\n",
    "    print('uppercase')\n",
    "elif string.lower() in string:\n",
    "    print('lowercase')\n",
    "else:\n",
    "    '@' or '#' or '$' or '%' or '&' in string\n",
    "    print('special char')"
   ]
  },
  {
   "cell_type": "markdown",
   "id": "c0f4e7f3-6a6d-44c5-915f-118dea8ba1f2",
   "metadata": {},
   "source": [
    "26. Implement a program to calculate the discounted price based on different purchase amounts using elif\n",
    "statements."
   ]
  },
  {
   "cell_type": "code",
   "execution_count": 31,
   "id": "ead32a88-6c60-4457-a117-116a4da068a1",
   "metadata": {},
   "outputs": [
    {
     "name": "stdin",
     "output_type": "stream",
     "text": [
      "Enter purchase amount  6000\n"
     ]
    },
    {
     "name": "stdout",
     "output_type": "stream",
     "text": [
      "Discount Amount = 100.00\n",
      "Net Bill Amount = 5900.00\n"
     ]
    }
   ],
   "source": [
    "p=int(input('Enter purchase amount '))\n",
    "if p<=5000:\n",
    "    dis=0\n",
    "elif p>5000 and p<=10000:\n",
    "    dis=(p-5000)*(10/100.0)\n",
    "elif p>10000 and p<=20000:\n",
    "    dis=(p-10000)*(20/100.0)\n",
    "elif p>20000 and p<=30000:\n",
    "    dis=(p-20000)*(30/100.0)\n",
    "else:\n",
    "    dis=(p-30000)*(40/100.0)\n",
    "\n",
    "print('Discount Amount = {:.2f}'.format(dis))\n",
    "print('Net Bill Amount = {:.2f}'.format(p-dis))"
   ]
  },
  {
   "cell_type": "markdown",
   "id": "5d6b0e9e-9fb9-4d20-9f14-307eb7111474",
   "metadata": {},
   "source": [
    "27. Develop a program to calculate the electricity bill based on different consumption slabs using elif\n",
    "statements."
   ]
  },
  {
   "cell_type": "code",
   "execution_count": 33,
   "id": "09fdc6d9-9087-4db0-8157-b7d6269c7a15",
   "metadata": {},
   "outputs": [
    {
     "name": "stdout",
     "output_type": "stream",
     "text": [
      "3500\n"
     ]
    }
   ],
   "source": [
    "def calculateBill(units):\n",
    " \n",
    "    if (units <= 100):\n",
    "      \n",
    "        return units * 10;\n",
    "     \n",
    "    elif (units <= 200):\n",
    "     \n",
    "        return ((100 * 10) +\n",
    "                (units - 100) * 15);\n",
    "     \n",
    "    elif (units <= 300):\n",
    "      \n",
    "        return ((100 * 10) +\n",
    "                (100 * 15) +\n",
    "                (units - 200) * 20);\n",
    "     \n",
    "    elif (units > 300):\n",
    "     \n",
    "        return ((100 * 10) +\n",
    "                (100 * 15) +\n",
    "                (100 * 20) +\n",
    "                (units - 300) * 25);\n",
    "     \n",
    "    return 0;\n",
    " \n",
    "\n",
    "units = 250;\n",
    "print(calculateBill(units));"
   ]
  },
  {
   "cell_type": "markdown",
   "id": "9240964f-76e3-4f87-9602-6b65abc22047",
   "metadata": {},
   "source": [
    "29. Write a Python script to determine the season based on a user-provided month using elif statements."
   ]
  },
  {
   "cell_type": "code",
   "execution_count": 35,
   "id": "5e524afb-2289-406c-a859-a766d71a49ca",
   "metadata": {},
   "outputs": [
    {
     "name": "stdin",
     "output_type": "stream",
     "text": [
      "Input the month (e.g. January, February etc.):  january\n"
     ]
    },
    {
     "name": "stdout",
     "output_type": "stream",
     "text": [
      "Season is autumn\n"
     ]
    }
   ],
   "source": [
    "month = input(\"Input the month (e.g. January, February etc.): \")\n",
    "\n",
    "if month in ('January', 'February', 'March'):\n",
    "\tseason = 'winter'\n",
    "elif month in ('April', 'May', 'June'):\n",
    "\tseason = 'spring'\n",
    "elif month in ('July', 'August', 'September'):\n",
    "\tseason = 'summer'\n",
    "else:\n",
    "\tseason = 'autumn'\n",
    "\n",
    "print(\"Season is\",season)"
   ]
  },
  {
   "cell_type": "markdown",
   "id": "9a7047fb-c9f8-4fa8-9c49-fa9f2943532e",
   "metadata": {},
   "source": [
    "30. Implement a program to determine the type of a year (leap or common) and month (30 or 31 days) using\n",
    "elif statements."
   ]
  },
  {
   "cell_type": "code",
   "execution_count": 37,
   "id": "43d8196c-e851-4087-ae90-9258f7dde311",
   "metadata": {},
   "outputs": [
    {
     "name": "stdin",
     "output_type": "stream",
     "text": [
      "enter the year 2016\n"
     ]
    },
    {
     "name": "stdout",
     "output_type": "stream",
     "text": [
      "leap year\n"
     ]
    }
   ],
   "source": [
    "year = int(input('enter the year'))\n",
    "if year%4==0:\n",
    "    print('leap year')\n",
    "else:\n",
    "    print('commom year')"
   ]
  },
  {
   "cell_type": "markdown",
   "id": "dab6e813-86a6-46cb-9a46-0356a2f715e9",
   "metadata": {
    "tags": []
   },
   "source": [
    "## Basic Level:"
   ]
  },
  {
   "cell_type": "markdown",
   "id": "e4083d97-7b7f-41ea-96b1-e458e4331aa6",
   "metadata": {},
   "source": [
    "1. Write a Python program that checks if a given number is positive, negative, or zero.\n",
    "2. Create a program to determine if a person is eligible to vote based on their age.\n",
    "3. Write a program to find the maximum of two given numbers using conditional statements.\n",
    "4. Develop a program that calculates the grade of a student based on their exam score.\n",
    "5. Create a program that checks if a year is a leap year or not.\n",
    "6. Write a program to classify a triangle based on its sides' lengths.\n",
    "7. Build a program that determines the largest of three given numbers.\n",
    "8. Develop a program that checks whether a character is a vowel or a consonant.\n",
    "9. Create a program to calculate the total cost of a shopping cart based on discounts.\n",
    "10. Write a program that checks if a given number is even or odd."
   ]
  },
  {
   "cell_type": "markdown",
   "id": "0ba2cf33-84b7-4b6d-a396-5abd316839a3",
   "metadata": {},
   "source": [
    "1. Write a Python program that checks if a given number is positive, negative, or zero."
   ]
  },
  {
   "cell_type": "code",
   "execution_count": 3,
   "id": "0c61b124-4a16-4d6d-a1e6-993c853e2654",
   "metadata": {},
   "outputs": [
    {
     "name": "stdin",
     "output_type": "stream",
     "text": [
      "entyer the number 12\n"
     ]
    },
    {
     "name": "stdout",
     "output_type": "stream",
     "text": [
      "positive\n"
     ]
    }
   ],
   "source": [
    "num = int(input('enter the number'))\n",
    "if num<0:\n",
    "    print('negative')\n",
    "elif num>0:\n",
    "    print('positive')\n",
    "else :\n",
    "    print('zero')"
   ]
  },
  {
   "cell_type": "markdown",
   "id": "a873dae4-8e7b-4e32-abf2-c7e58a65bf25",
   "metadata": {},
   "source": [
    "2. Create a program to determine if a person is eligible to vote based on their age."
   ]
  },
  {
   "cell_type": "code",
   "execution_count": 7,
   "id": "f558f3bb-1a70-4833-86fc-8357a9eecf12",
   "metadata": {},
   "outputs": [
    {
     "name": "stdin",
     "output_type": "stream",
     "text": [
      "enter the age 19\n"
     ]
    },
    {
     "name": "stdout",
     "output_type": "stream",
     "text": [
      "eligible to vote\n"
     ]
    }
   ],
   "source": [
    "age = int(input('enter the age'))\n",
    "if age >= 18:\n",
    "    print('eligible to vote')\n",
    "else:\n",
    "    print('not eligible to vote')"
   ]
  },
  {
   "cell_type": "markdown",
   "id": "93612f55-4c3f-4c83-898a-f93e288638cb",
   "metadata": {},
   "source": [
    "3. Write a program to find the maximum of two given numbers using conditional statements."
   ]
  },
  {
   "cell_type": "code",
   "execution_count": 10,
   "id": "d59e49cc-d7c4-4dea-8268-9f0dda604598",
   "metadata": {},
   "outputs": [
    {
     "name": "stdin",
     "output_type": "stream",
     "text": [
      "enter the number 1 56\n",
      "enter the number 2 67\n"
     ]
    },
    {
     "name": "stdout",
     "output_type": "stream",
     "text": [
      "maximum of two is 67\n"
     ]
    }
   ],
   "source": [
    "num1 = int(input('enter the number 1'))\n",
    "num2 = int(input('enter the number 2'))\n",
    "if max(num1,num2):\n",
    "    print('maximum of two is',max(num1,num2))\n"
   ]
  },
  {
   "cell_type": "markdown",
   "id": "39376019-e1f4-4206-aec8-e17a09b28d09",
   "metadata": {},
   "source": [
    "4. Develop a program that calculates the grade of a student based on their exam score."
   ]
  },
  {
   "cell_type": "code",
   "execution_count": 14,
   "id": "e77582f1-135a-4c65-b748-0887c8981272",
   "metadata": {},
   "outputs": [
    {
     "name": "stdin",
     "output_type": "stream",
     "text": [
      "enter the marks 20\n"
     ]
    },
    {
     "name": "stdout",
     "output_type": "stream",
     "text": [
      "student get c grade\n"
     ]
    }
   ],
   "source": [
    "marks = int(input('enter the marks'))\n",
    "if marks<=30:\n",
    "    print('student get c grade')\n",
    "elif marks>=30 and marks<=60:\n",
    "    print('student get b grade')\n",
    "elif marks>=80:\n",
    "    print('student get b+ grade')\n",
    "else:\n",
    "    marks>=90\n",
    "    print('student get A+ grade')"
   ]
  },
  {
   "cell_type": "markdown",
   "id": "d3bac874-cac7-487a-ad66-f5934a132c5a",
   "metadata": {},
   "source": [
    "5. Create a program that checks if a year is a leap year or not"
   ]
  },
  {
   "cell_type": "code",
   "execution_count": 17,
   "id": "1947880b-9ff1-4098-a0c5-c79ded169c87",
   "metadata": {},
   "outputs": [
    {
     "name": "stdin",
     "output_type": "stream",
     "text": [
      "enter the year 2018\n"
     ]
    },
    {
     "name": "stdout",
     "output_type": "stream",
     "text": [
      "year is not leap year\n"
     ]
    }
   ],
   "source": [
    "year = int(input('enter the year'))\n",
    "if year%4==0:\n",
    "    print('year is leap year')\n",
    "else:\n",
    "    print('year is not leap year')"
   ]
  },
  {
   "cell_type": "markdown",
   "id": "a5f97f97-4aa6-490d-975f-b614444f75da",
   "metadata": {},
   "source": [
    "6. Write a program to classify a triangle based on its sides' lengths."
   ]
  },
  {
   "cell_type": "code",
   "execution_count": 23,
   "id": "da44eddb-8ac2-45c6-8af7-8ce0883cb713",
   "metadata": {},
   "outputs": [
    {
     "name": "stdin",
     "output_type": "stream",
     "text": [
      "enter the side 1 7\n",
      "enter the side 2 7\n",
      "enter the side 3 7\n"
     ]
    },
    {
     "name": "stdout",
     "output_type": "stream",
     "text": [
      "triangle is equlateral\n"
     ]
    }
   ],
   "source": [
    "xside = int(input('enter the side 1'))\n",
    "yside = int(input('enter the side 2'))\n",
    "zside = int(input('enter the side 3'))\n",
    "if xside==yside and yside==zside:\n",
    "    print('triangle is equlateral')\n",
    "elif xside==yside and xside==zside and yside==zside:\n",
    "    print('triangle is Isosceles Triangle: ')\n",
    "else:\n",
    "    print('Scalene Triangle')"
   ]
  },
  {
   "cell_type": "markdown",
   "id": "8a5cbbac-6738-4fb0-b26c-9cb1a4e4b756",
   "metadata": {},
   "source": [
    "7. Build a program that determines the largest of three given numbers."
   ]
  },
  {
   "cell_type": "code",
   "execution_count": 25,
   "id": "79f185fd-f520-4919-9d2b-e2983df639fb",
   "metadata": {},
   "outputs": [
    {
     "name": "stdin",
     "output_type": "stream",
     "text": [
      "enter the num 1 7\n",
      "enter the num 2 8\n",
      "enter the num 3 24\n"
     ]
    },
    {
     "name": "stdout",
     "output_type": "stream",
     "text": [
      "the max of three number is 24\n"
     ]
    }
   ],
   "source": [
    "num1 = int(input('enter the num 1'))\n",
    "num2 = int(input('enter the num 2'))\n",
    "num3 = int(input('enter the num 3'))\n",
    "if max(num1,num2,num3):\n",
    "    print('the max of three number is',max(num1,num2,num3))"
   ]
  },
  {
   "cell_type": "markdown",
   "id": "ea0be357-a6c4-4acc-8d31-9e7fe4cc64a0",
   "metadata": {},
   "source": [
    "8. Develop a program that checks whether a character is a vowel or a consonant"
   ]
  },
  {
   "cell_type": "code",
   "execution_count": 8,
   "id": "8635cd8a-85b2-41a6-a14a-85418898acb1",
   "metadata": {},
   "outputs": [
    {
     "name": "stdin",
     "output_type": "stream",
     "text": [
      "Enter a character:  p\n"
     ]
    },
    {
     "name": "stdout",
     "output_type": "stream",
     "text": [
      "p is a Consonant\n"
     ]
    }
   ],
   "source": [
    "ch = input(\"Enter a character: \")\n",
    "\n",
    "if(ch=='A' or ch=='a' or ch=='E' or ch =='e' or ch=='I'\n",
    " or ch=='i' or ch=='O' or ch=='o' or ch=='U' or ch=='u'):\n",
    "    print(ch, \"is a Vowel\")\n",
    "else:\n",
    "    print(ch, \"is a Consonant\")"
   ]
  },
  {
   "cell_type": "raw",
   "id": "6c9116a0-079d-4bae-94b0-db68d2b80fb2",
   "metadata": {},
   "source": [
    "10. Write a program that checks if a given number is even or odd."
   ]
  },
  {
   "cell_type": "code",
   "execution_count": null,
   "id": "15b065b4-1559-460a-bb9e-66238f67544b",
   "metadata": {},
   "outputs": [
    {
     "name": "stdin",
     "output_type": "stream",
     "text": [
      "enter the number 73\n"
     ]
    },
    {
     "name": "stdout",
     "output_type": "stream",
     "text": [
      "odd number\n"
     ]
    }
   ],
   "source": [
    "number = int(input('enter the number'))\n",
    "if number%2==0:\n",
    "    print('even number')\n",
    "else:\n",
    "    print('odd number')"
   ]
  },
  {
   "cell_type": "markdown",
   "id": "33e7d9b3-0fba-41d0-a56c-725f25938c0a",
   "metadata": {
    "tags": []
   },
   "source": [
    " # Intermediate Level:"
   ]
  },
  {
   "cell_type": "markdown",
   "id": "d3fdd719-7097-45e1-811f-bc6f951bc00c",
   "metadata": {},
   "source": [
    "11. Write a program that calculates the roots of a quadratic equation .\n",
    "12. Create a program that determines the day of the week based on the day number (1-7).\n",
    "13. Develop a program that calculates the factorial of a given number using recursion.\n",
    "14. Write a program to find the largest among three numbers without using the `max()` function.\n",
    "15. Create a program that simulates a basic ATM transaction menu.\n",
    "16. Build a program that checks if a given string is a palindrome or not.\n",
    "17. Write a program that calculates the average of a list of numbers, excluding the smallest and largest values.\n",
    "18. Develop a program that converts a given temperature from Celsius to Fahrenheit.\n",
    "19. Create a program that simulates a basic calculator for addition, subtraction, multiplication, and division.\n",
    "20. Write a program that determines the roots of a cubic equation using the Cardano formula."
   ]
  },
  {
   "cell_type": "markdown",
   "id": "d9e3c095-2c62-4112-896c-14cfe6f6bb0a",
   "metadata": {},
   "source": [
    "11. Write a program that calculates the roots of a quadratic equation ."
   ]
  },
  {
   "cell_type": "code",
   "execution_count": null,
   "id": "27165fb8-d498-4fd3-a4d4-21d7d235706f",
   "metadata": {},
   "outputs": [
    {
     "name": "stdout",
     "output_type": "stream",
     "text": [
      "Equation: ax^2 + bx + c \n"
     ]
    }
   ],
   "source": [
    "print(\"Equation: ax^2 + bx + c \")\n",
    "a=int(input(\"Enter a: \"))\n",
    "b=int(input(\"Enter b: \"))\n",
    "c=int(input(\"Enter c: \"))\n",
    "d=b**2-4*a*c\n",
    "d1=d**0.5\n",
    "if(d<0):\n",
    "    print(\"The roots are imaginary. \")\n",
    "else:\n",
    "    r1=(-b+d1)/2*a\n",
    "    r2=(-b-d1)/2*a\n",
    "    print(\"The first root: \",round(r1,2))\n",
    "    print(\"The second root: \",round(r2,2))"
   ]
  },
  {
   "cell_type": "markdown",
   "id": "fb3a8721-da56-4cf7-a653-cdf8cb933bed",
   "metadata": {},
   "source": [
    "12. Create a program that determines the day of the week based on the day number (1-7)."
   ]
  },
  {
   "cell_type": "code",
   "execution_count": 1,
   "id": "b35cf04e-e9d9-4096-86e7-8058bac454eb",
   "metadata": {},
   "outputs": [
    {
     "name": "stdin",
     "output_type": "stream",
     "text": [
      "enter the day monday\n"
     ]
    },
    {
     "name": "stdout",
     "output_type": "stream",
     "text": [
      "1\n"
     ]
    }
   ],
   "source": [
    "day = input('enter the day')\n",
    "if day=='monday':\n",
    "    print('1')\n",
    "elif day=='tuesday':\n",
    "    print('2')\n",
    "elif day=='wednesday':\n",
    "    print('3')\n",
    "elif day=='thursday':\n",
    "    print('4')\n",
    "elif day=='friday':\n",
    "    print('5')\n",
    "elif day=='saturday':\n",
    "    print('6')\n",
    "else:\n",
    "    day=='sunday'\n",
    "    print('7')\n",
    "        "
   ]
  },
  {
   "cell_type": "raw",
   "id": "96a9e821-ac10-46af-9df4-22ce58352a70",
   "metadata": {},
   "source": [
    "14. Write a program to find the largest among three numbers without using the `max()` function."
   ]
  },
  {
   "cell_type": "code",
   "execution_count": 2,
   "id": "8cd5732f-292f-413a-94a9-8445d29c5990",
   "metadata": {},
   "outputs": [
    {
     "name": "stdin",
     "output_type": "stream",
     "text": [
      "enter the number 1 8\n",
      "enter the number 2 7\n",
      "enter the number 3 90\n"
     ]
    },
    {
     "name": "stdout",
     "output_type": "stream",
     "text": [
      "The largest number is 90\n"
     ]
    }
   ],
   "source": [
    "num1 = int(input('enter the number 1'))\n",
    "num2 = int(input('enter the number 2'))\n",
    "num3 = int(input('enter the number 3'))\n",
    "if (num1 >= num2) and (num1 >= num3):\n",
    "    largest = num1\n",
    "elif (num2 >= num1) and (num2 >= num3):\n",
    "    largest = num2\n",
    "else:\n",
    "    largest = num3\n",
    "\n",
    "print(\"The largest number is\", largest)"
   ]
  },
  {
   "cell_type": "markdown",
   "id": "37dc36df-c659-48f3-9574-ccf19b018439",
   "metadata": {},
   "source": [
    "15. Create a program that simulates a basic ATM transaction menu."
   ]
  },
  {
   "cell_type": "code",
   "execution_count": 13,
   "id": "5da9f0e3-09b5-4de6-ab79-b4fa11d5f4a9",
   "metadata": {},
   "outputs": [],
   "source": [
    "class bank_account:\n",
    "    balance = 100\n",
    "    def __init__(self,balance):\n",
    "        self.balance=balance\n",
    "    def deposit(self,amount):\n",
    "        return self.balance+amount\n",
    "    def withdraw(self,amount):\n",
    "        return self.balance-amount\n",
    "    def balance(self,balance):\n",
    "        self.balance\n"
   ]
  },
  {
   "cell_type": "code",
   "execution_count": 14,
   "id": "fc74ae32-b867-483a-82c4-35152e64ba1a",
   "metadata": {},
   "outputs": [],
   "source": [
    "bank_account=bank_account(1000)"
   ]
  },
  {
   "cell_type": "code",
   "execution_count": 15,
   "id": "ca86dd44-bc3c-46ac-a730-94c000dfc085",
   "metadata": {},
   "outputs": [
    {
     "data": {
      "text/plain": [
       "2000"
      ]
     },
     "execution_count": 15,
     "metadata": {},
     "output_type": "execute_result"
    }
   ],
   "source": [
    "bank_account.deposit(1000)"
   ]
  },
  {
   "cell_type": "code",
   "execution_count": 16,
   "id": "7523d389-4395-4335-9011-523e8c5f581b",
   "metadata": {},
   "outputs": [
    {
     "data": {
      "text/plain": [
       "500"
      ]
     },
     "execution_count": 16,
     "metadata": {},
     "output_type": "execute_result"
    }
   ],
   "source": [
    "bank_account.withdraw(500)"
   ]
  },
  {
   "cell_type": "markdown",
   "id": "389cc156-5d2d-4b25-aac9-c01f3fef77bd",
   "metadata": {},
   "source": [
    "16. Build a program that checks if a given string is a palindrome or not."
   ]
  },
  {
   "cell_type": "code",
   "execution_count": 32,
   "id": "aa538a59-89d1-49c5-a761-cc76a48b7e1c",
   "metadata": {},
   "outputs": [
    {
     "name": "stdout",
     "output_type": "stream",
     "text": [
      "string is palindrom\n"
     ]
    }
   ],
   "source": [
    "st= 'mom'\n",
    "if st[::-1]==st:\n",
    "    print('string is palindrom')\n",
    "else:\n",
    "    print('string is not palindrome')"
   ]
  },
  {
   "cell_type": "markdown",
   "id": "4809d5ce-a691-47c7-8980-3c05cf9bcff8",
   "metadata": {},
   "source": [
    "17. Write a program that calculates the average of a list of numbers, excluding the smallest and largest values."
   ]
  },
  {
   "cell_type": "markdown",
   "id": "7ea9231e-4101-45d2-afaa-0dbdac85969b",
   "metadata": {},
   "source": [
    "18. Develop a program that converts a given temperature from Celsius to Fahrenheit."
   ]
  },
  {
   "cell_type": "code",
   "execution_count": 33,
   "id": "f03087a2-7c34-4fcd-b6d6-588817d3ed3b",
   "metadata": {},
   "outputs": [
    {
     "name": "stdout",
     "output_type": "stream",
     "text": [
      "37.5 degree Celsius is equal to 99.5 degree Fahrenheit\n"
     ]
    }
   ],
   "source": [
    "celsius = 37.5\n",
    "fahrenheit = (celsius * 1.8) + 32\n",
    "print('%0.1f degree Celsius is equal to %0.1f degree Fahrenheit' %(celsius,fahrenheit))"
   ]
  },
  {
   "cell_type": "markdown",
   "id": "9ab7ae2c-04ed-4211-b05a-6fa0dfec212b",
   "metadata": {},
   "source": [
    "19. Create a program that simulates a basic calculator for addition, subtraction, multiplication, and division"
   ]
  },
  {
   "cell_type": "code",
   "execution_count": 40,
   "id": "902c2689-2d4e-4ae0-b7b9-8c0b163e6e56",
   "metadata": {},
   "outputs": [
    {
     "name": "stdin",
     "output_type": "stream",
     "text": [
      "enter the number 1 90\n",
      "enter *,+,-,% -\n",
      "enter the number 2 9\n"
     ]
    },
    {
     "name": "stdout",
     "output_type": "stream",
     "text": [
      "81\n"
     ]
    }
   ],
   "source": [
    "num1 = int(input('enter the number 1'))\n",
    "num2 = input('enter *,+,-,%')\n",
    "num3 = int(input('enter the number 2'))\n",
    " \n",
    "if num2== '+':\n",
    "    print(num1+num3)\n",
    "elif num2=='-':\n",
    "    print(num1-num3)\n",
    "elif num2=='*':\n",
    "    print(num1*num3)\n",
    "elif num2=='%':\n",
    "    print(num1%num3)\n",
    "else:\n",
    "    print(\"invalid operation\")"
   ]
  },
  {
   "cell_type": "markdown",
   "id": "d7a4bd5b-32a1-4d17-a295-ef3a064fb963",
   "metadata": {},
   "source": [
    "20. Write a program that determines the roots of a cubic equation using the Cardano formula."
   ]
  },
  {
   "cell_type": "code",
   "execution_count": 41,
   "id": "ff5df263-d858-465d-a37b-2723d275f80b",
   "metadata": {},
   "outputs": [],
   "source": [
    "def solve(a,b,c,d):\n",
    "    Q = (3*a*c - (b**2)) / (9*(a**2))\n",
    "    R = (9*a*b*c - 27*(a**2)*d - 2*(b**3)) / (54*(a**3))\n",
    "    D = (Q**3) + (R**2)\n",
    "    S = (R + (D**(1/2)))**(1/3)\n",
    "    T = (R - (D**(1/2)))**(1/3)\n",
    "\n",
    "    x1 = S + T - (b/(3*a))\n",
    "    x2 = -((S + T)/2) - (b/(3*a)) + 0.5j * (3**(1/2)) * (S - T)\n",
    "    x3 = -((S + T)/2) - (b/(3*a)) - 0.5j * (3**(1/2)) * (S - T)\n",
    "\n",
    "    return (x1,x2,x3)"
   ]
  },
  {
   "cell_type": "code",
   "execution_count": 43,
   "id": "1ce21893-5f33-45ea-b4ef-981744782d34",
   "metadata": {},
   "outputs": [
    {
     "data": {
      "text/plain": [
       "((0.42697045480630835+1.199502715028224j),\n",
       " (-0.17468540428030588-0.8521365428250519j),\n",
       " (-2.252285050526002-0.3473661722031721j))"
      ]
     },
     "execution_count": 43,
     "metadata": {},
     "output_type": "execute_result"
    }
   ],
   "source": [
    "solve(1,2,3,4)"
   ]
  },
  {
   "cell_type": "markdown",
   "id": "f3f4f6f5-93e3-45ca-baef-d0e3164303bc",
   "metadata": {
    "tags": []
   },
   "source": [
    "# Advanced Level:"
   ]
  },
  {
   "cell_type": "markdown",
   "id": "3184b78d-62d5-4779-a2e9-999f4733766f",
   "metadata": {},
   "source": [
    "21. Create a program that calculates the income tax based on the user's income and tax brackets.\n",
    "22. Write a program that simulates a rock-paper-scissors game against the computer.\n",
    "23. Develop a program that generates a random password based on user preferences (length, complexity).\n",
    "24. Create a program that implements a simple text-based adventure game with branching scenarios.\n",
    "25. Build a program that solves a linear equation for x, considering different cases.\n",
    "26. Write a program that simulates a basic quiz game with multiple-choice questions and scoring.\n",
    "27. Develop a program that determines whether a given year is a prime number or not.\n",
    "28. Create a program that sorts three numbers in ascending order using conditional statements.\n",
    "29. Build a program that determines the roots of a quartic equation using numerical methods.\n",
    "30. Write a program that calculates the BMI (Body Mass Index) and provides health recommendations based\n",
    "on the user's input."
   ]
  },
  {
   "cell_type": "markdown",
   "id": "dc412572-cc1e-4485-85ef-dbae282237cf",
   "metadata": {},
   "source": [
    "21. Create a program that calculates the income tax based on the user's income and tax brackets."
   ]
  },
  {
   "cell_type": "code",
   "execution_count": 46,
   "id": "9b77584b-377f-4a58-a340-077c61151ffd",
   "metadata": {},
   "outputs": [
    {
     "name": "stdin",
     "output_type": "stream",
     "text": [
      "enter income 10000000\n"
     ]
    },
    {
     "name": "stdout",
     "output_type": "stream",
     "text": [
      "you owe 2737500.0 Rupees in tax!\n"
     ]
    }
   ],
   "source": [
    "income=int(input('enter income'))\n",
    "if income <= 250000:  #2 Lakh 50 thousand\n",
    "    tax = 0\n",
    "\n",
    "elif income <= 500000: #5 Lakh\n",
    "    tax = (income - 250000) * 0.05\n",
    "\n",
    "elif income <= 750000: #7 lakh 50 thousand\n",
    "    tax = (income - 500000) * 0.10 + 12500 \n",
    "\n",
    "elif income <= 1000000: #10 Lakh\n",
    "    tax = (income - 750000) * 0.15 + 37500 \n",
    "\n",
    "elif income <= 1250000: #12 lakh 50 thousand\n",
    "    tax = (income - 1000000) * 0.20 + 75000 \n",
    "\n",
    "elif income <= 1500000: #15 lakh\n",
    "    tax = (income - 1250000) * 0.25 + 125000 \n",
    "\n",
    "else:\n",
    "    tax = (income - 1500000) * 0.30 + 187500\n",
    "\n",
    "print(\"you owe\", tax, \"Rupees in tax!\")"
   ]
  },
  {
   "cell_type": "markdown",
   "id": "d0c85f27-94c4-48de-b3c4-3c6d29485f46",
   "metadata": {},
   "source": [
    "22. Write a program that simulates a rock-paper-scissors game against the computer."
   ]
  },
  {
   "cell_type": "code",
   "execution_count": null,
   "id": "791ea475-0301-4c26-820e-2329ebcfda6f",
   "metadata": {},
   "outputs": [],
   "source": [
    "from random import randint\n",
    "\n",
    "#create a list of play options\n",
    "t = [\"Rock\", \"Paper\", \"Scissors\"]\n",
    "\n",
    "#assign a random play to the computer\n",
    "computer = t[randint(0,2)]\n",
    "\n",
    "#set player to False\n",
    "player = False\n",
    "\n",
    "while player == False:\n",
    "#set player to True\n",
    "    player = input(\"Rock, Paper, Scissors?\")\n",
    "    if player == computer:\n",
    "        print(\"Tie!\")\n",
    "    elif player == \"Rock\":\n",
    "        if computer == \"Paper\":\n",
    "            print(\"You lose!\", computer, \"covers\", player)\n",
    "        else:\n",
    "            print(\"You win!\", player, \"smashes\", computer)\n",
    "    elif player == \"Paper\":\n",
    "        if computer == \"Scissors\":\n",
    "            print(\"You lose!\", computer, \"cut\", player)\n",
    "        else:\n",
    "            print(\"You win!\", player, \"covers\", computer)\n",
    "    elif player == \"Scissors\":\n",
    "        if computer == \"Rock\":\n",
    "            print(\"You lose...\", computer, \"smashes\", player)\n",
    "        else:\n",
    "            print(\"You win!\", player, \"cut\", computer)\n",
    "    else:\n",
    "        print(\"That's not a valid play. Check your spelling!\")\n",
    "    #player was set to True, but we want it to be False so the loop continues\n",
    "    player = False\n",
    "    computer = t[randint(0,2)]"
   ]
  },
  {
   "cell_type": "markdown",
   "id": "df1fbe5e-60e6-44c6-bc19-743e6f79a2b8",
   "metadata": {},
   "source": [
    "24. Create a program that implements a simple text-based adventure game with branching scenarios."
   ]
  },
  {
   "cell_type": "code",
   "execution_count": 1,
   "id": "a14398f2-e3d8-4d78-af8b-9376bcbd68b4",
   "metadata": {},
   "outputs": [],
   "source": [
    "def introScene():\n",
    "    if __name__ == \"__main__\":\n",
    "        while True:\n",
    "            print(\"Welcome to the Adventure Game!\")\n",
    "            print(\"As an avid traveler, you have decided to visit the Catacombs of Paris.\")\n",
    "            print(\"However, during your exploration, you find yourself lost.\")\n",
    "            print(\"You can choose to walk in multiple directions to find a way out.\")\n",
    "            print(\"Let's start with your name: \")\n",
    "            name = input()\n",
    "            print(\"Good luck, \" +name+ \".\")\n",
    "            introScene()"
   ]
  },
  {
   "cell_type": "code",
   "execution_count": null,
   "id": "d6957934-accb-4507-9884-bdf84162c94c",
   "metadata": {},
   "outputs": [
    {
     "name": "stdout",
     "output_type": "stream",
     "text": [
      "Welcome to the Adventure Game!\n",
      "As an avid traveler, you have decided to visit the Catacombs of Paris.\n",
      "However, during your exploration, you find yourself lost.\n",
      "You can choose to walk in multiple directions to find a way out.\n",
      "Let's start with your name: \n"
     ]
    },
    {
     "name": "stdin",
     "output_type": "stream",
     "text": [
      " AVICHAL\n"
     ]
    },
    {
     "name": "stdout",
     "output_type": "stream",
     "text": [
      "Good luck, AVICHAL.\n",
      "Welcome to the Adventure Game!\n",
      "As an avid traveler, you have decided to visit the Catacombs of Paris.\n",
      "However, during your exploration, you find yourself lost.\n",
      "You can choose to walk in multiple directions to find a way out.\n",
      "Let's start with your name: \n"
     ]
    },
    {
     "name": "stdin",
     "output_type": "stream",
     "text": [
      " avichal\n"
     ]
    },
    {
     "name": "stdout",
     "output_type": "stream",
     "text": [
      "Good luck, avichal.\n",
      "Welcome to the Adventure Game!\n",
      "As an avid traveler, you have decided to visit the Catacombs of Paris.\n",
      "However, during your exploration, you find yourself lost.\n",
      "You can choose to walk in multiple directions to find a way out.\n",
      "Let's start with your name: \n"
     ]
    }
   ],
   "source": [
    "introScene()"
   ]
  },
  {
   "cell_type": "markdown",
   "id": "2f294c73-7869-41bb-ab1a-ee4fa6be9e85",
   "metadata": {},
   "source": [
    "25. Build a program that solves a linear equation for x, considering different cases."
   ]
  },
  {
   "cell_type": "code",
   "execution_count": 3,
   "id": "cbc78bf1-779d-4bce-a30e-02aff15b75f9",
   "metadata": {},
   "outputs": [
    {
     "name": "stdout",
     "output_type": "stream",
     "text": [
      "Equation 1:\n",
      "Eq(x + y + z, 1)\n",
      "Equation 2\n",
      "Eq(x - y + 2*z, 1)\n",
      "Equation 3\n",
      "Values of 3 unknown variable are as follows:\n",
      "{x: 0, y: 1/3, z: 2/3}\n"
     ]
    }
   ],
   "source": [
    "from sympy import symbols, Eq, solve\n",
    "  \n",
    "\n",
    "x, y, z = symbols('x,y,z')\n",
    "  \n",
    "\n",
    "eq1 = Eq((x+y+z), 1)\n",
    "print(\"Equation 1:\")\n",
    "print(eq1)\n",
    "  \n",
    "eq2 = Eq((x-y+2*z), 1)\n",
    "print(\"Equation 2\")\n",
    "print(eq2)\n",
    "  \n",
    "eq3 = Eq((2*x-y+2*z), 1)\n",
    "print(\"Equation 3\")\n",
    "  \n",
    "\n",
    "print(\"Values of 3 unknown variable are as follows:\")\n",
    "print(solve((eq1, eq2, eq3), (x, y, z)))"
   ]
  },
  {
   "cell_type": "markdown",
   "id": "8db3a9df-26f4-4e55-b643-779e035338df",
   "metadata": {},
   "source": [
    "26. Write a program that simulates a basic quiz game with multiple-choice questions and scoring."
   ]
  },
  {
   "cell_type": "code",
   "execution_count": 8,
   "id": "54861db3-81d1-49f2-9428-7dc33fca9f71",
   "metadata": {},
   "outputs": [
    {
     "name": "stdout",
     "output_type": "stream",
     "text": [
      "welcome to quiz\n",
      "NOTE: if your spelling is incorrect then it is considered as wrong answer\n"
     ]
    },
    {
     "name": "stdin",
     "output_type": "stream",
     "text": [
      "do you want to play yes\n",
      "what is CPU stand for? central processing unit\n"
     ]
    },
    {
     "name": "stdout",
     "output_type": "stream",
     "text": [
      "correct! you got 1 point\n"
     ]
    }
   ],
   "source": [
    "print('welcome to quiz')\n",
    "print('NOTE: if your spelling is incorrect then it is considered as wrong answer')\n",
    "ques=0\n",
    "score = 0\n",
    "playing=input('do you want to play')\n",
    "if playing=='yes':\n",
    "    ques+=1\n",
    "    question=input(f'what is CPU stand for?')\n",
    "if question=='central processing unit':\n",
    "    score+=1\n",
    "    print('correct! you got 1 point')\n",
    "else:\n",
    "    print('Incorrect!')"
   ]
  },
  {
   "cell_type": "markdown",
   "id": "a2db02f7-b243-4b1c-b970-7520952e051b",
   "metadata": {},
   "source": [
    "27. Develop a program that determines whether a given year is a prime number or not."
   ]
  },
  {
   "cell_type": "code",
   "execution_count": 11,
   "id": "e3bfc670-eb8e-4e5c-9d29-d7733bdeadcd",
   "metadata": {},
   "outputs": [
    {
     "name": "stdin",
     "output_type": "stream",
     "text": [
      "enter the year 2013\n"
     ]
    },
    {
     "name": "stdout",
     "output_type": "stream",
     "text": [
      "year is a prime year\n"
     ]
    }
   ],
   "source": [
    "year = int(input('enter the year'))\n",
    "if year%2!=0:\n",
    "    print('year is a prime year')\n",
    "else:\n",
    "    print('year is no prime year')"
   ]
  },
  {
   "cell_type": "markdown",
   "id": "35c5a27f-1ebb-49f0-9c44-1413971cc130",
   "metadata": {},
   "source": [
    "28. Create a program that sorts three numbers in ascending order using conditional statements."
   ]
  },
  {
   "cell_type": "code",
   "execution_count": 12,
   "id": "46fa169b-99e0-4fe7-b789-1fb817a05c0c",
   "metadata": {},
   "outputs": [
    {
     "name": "stdout",
     "output_type": "stream",
     "text": [
      "[212, 3445, 23343]\n"
     ]
    }
   ],
   "source": [
    "number=[23343,3445,212]\n",
    "if sorted(number):\n",
    "    print(sorted(number))"
   ]
  },
  {
   "cell_type": "markdown",
   "id": "05b4ff52-6aa5-47ac-aabe-94f51607ccc5",
   "metadata": {},
   "source": [
    "29. Build a program that determines the roots of a quartic equation using numerical methods."
   ]
  },
  {
   "cell_type": "code",
   "execution_count": 30,
   "id": "155764c8-a7ab-466b-876f-1945b35929b7",
   "metadata": {},
   "outputs": [
    {
     "name": "stdout",
     "output_type": "stream",
     "text": [
      "Roots are real and different \n",
      "4.0\n",
      "3.0\n"
     ]
    }
   ],
   "source": [
    "import math\n",
    " \n",
    "# Prints roots of quadratic equation\n",
    "# ax*2 + bx + x\n",
    "def findRoots(a, b, c):\n",
    " \n",
    "    # If a is 0, then equation is\n",
    "    # not quadratic, but linear\n",
    "    if a == 0:\n",
    "        print(\"Invalid\")\n",
    "        return -1\n",
    "    d = b * b - 4 * a * c\n",
    "    sqrt_val = math.sqrt(abs(d))\n",
    " \n",
    "    if d > 0:\n",
    "        print(\"Roots are real and different \")\n",
    "        print((-b + sqrt_val)/(2 * a))\n",
    "        print((-b - sqrt_val)/(2 * a))\n",
    "    elif d == 0:\n",
    "        print(\"Roots are real and same\")\n",
    "        print(-b / (2*a))\n",
    "    else:  # d<0\n",
    "        print(\"Roots are complex\")\n",
    "        print(- b / (2*a), \" + i\", sqrt_val / (2 * a))\n",
    "        print(- b / (2*a), \" - i\", sqrt_val / (2 * a))\n",
    " \n",
    " \n",
    "# Driver Program\n",
    "if __name__ == '__main__':\n",
    "    a = 1\n",
    "    b = -7\n",
    "    c = 12\n",
    "     \n",
    "    # Function call\n",
    "    findRoots(a, b, c)"
   ]
  },
  {
   "cell_type": "markdown",
   "id": "42781209-46c5-4de9-ae52-76d811de331c",
   "metadata": {
    "tags": []
   },
   "source": [
    "# Challenge Level:"
   ]
  },
  {
   "cell_type": "markdown",
   "id": "55b1a485-1461-448e-97b0-83b1963bb3d2",
   "metadata": {},
   "source": [
    "31. Create a program that validates a password based on complexity rules (length, characters, etc.).\n",
    "32. Develop a program that performs matrix addition and subtraction based on user input.\n",
    "33. Write a program that calculates the greatest common divisor (GCD) of two numbers using the Euclidean\n",
    "algorithm.\n",
    "34. Build a program that performs matrix multiplication using nested loops and conditional statements.\n",
    "35. Create a program that simulates a basic text-based tic-tac-toe game against the computer.\n",
    "36. Write a program that generates Fibonacci numbers up to a specified term using iterative methods.\n",
    "37. Develop a program that calculates the nth term of the Fibonacci sequence using memoization.\n",
    "38. Create a program that generates a calendar for a given month and year using conditional statements.\n",
    "39. Build a program that simulates a basic text-based blackjack game against the computer.\n",
    "40. Write a program that generates the prime factors of a given number using trial division."
   ]
  },
  {
   "cell_type": "markdown",
   "id": "844d7a3b-79e3-47b1-86ac-0f8a0e9b985f",
   "metadata": {},
   "source": [
    "31. Create a program that validates a password based on complexity rules (length, characters, etc.)."
   ]
  },
  {
   "cell_type": "code",
   "execution_count": 34,
   "id": "7ca2b60d-706f-494d-aaef-989771468d76",
   "metadata": {},
   "outputs": [
    {
     "name": "stdin",
     "output_type": "stream",
     "text": [
      "enter the char AVICHAjo*\n",
      "enter special char 0909\n",
      "enter number 434\n"
     ]
    },
    {
     "name": "stdout",
     "output_type": "stream",
     "text": [
      "invalid pass word\n"
     ]
    }
   ],
   "source": [
    "string=input('enter the char')\n",
    "special=input('enter special char')\n",
    "number=int(input('enter number'))\n",
    "if string==string.upper():\n",
    "    print('valid password')\n",
    "elif special==\"@#$*\":\n",
    "    print('valid password')\n",
    "elif number<10:\n",
    "    print('valid password')\n",
    "else:\n",
    "    print('invalid pass word')"
   ]
  },
  {
   "cell_type": "markdown",
   "id": "1544d6e7-527d-483f-88ff-abd506617d0c",
   "metadata": {},
   "source": [
    "32. Develop a program that performs matrix addition and subtraction based on user input."
   ]
  },
  {
   "cell_type": "code",
   "execution_count": 36,
   "id": "ea9c8bf7-ab90-49d5-b29d-0d56e1d330c3",
   "metadata": {},
   "outputs": [
    {
     "name": "stdout",
     "output_type": "stream",
     "text": [
      "Printing elements of first matrix\n",
      "[[1 2]\n",
      " [3 4]]\n",
      "Printing elements of second matrix\n",
      "[[4 5]\n",
      " [6 7]]\n",
      "Addition of two matrix\n",
      "[[ 5  7]\n",
      " [ 9 11]]\n"
     ]
    }
   ],
   "source": [
    "import numpy as np\n",
    "A = np.array([[1, 2], [3, 4]])\n",
    "B = np.array([[4, 5], [6, 7]])\n",
    " \n",
    "print(\"Printing elements of first matrix\")\n",
    "print(A)\n",
    "print(\"Printing elements of second matrix\")\n",
    "print(B)\n",
    " \n",
    "# adding two matrix\n",
    "print(\"Addition of two matrix\")\n",
    "print(np.add(A, B))"
   ]
  },
  {
   "cell_type": "markdown",
   "id": "ca9a4cd3-0135-42cf-b2fb-e49941fb5ee9",
   "metadata": {},
   "source": [
    "33. Write a program that calculates the greatest common divisor (GCD) of two numbers"
   ]
  },
  {
   "cell_type": "code",
   "execution_count": 37,
   "id": "57c55e63-bece-4142-8705-076a309492cf",
   "metadata": {},
   "outputs": [
    {
     "data": {
      "text/plain": [
       "1"
      ]
     },
     "execution_count": 37,
     "metadata": {},
     "output_type": "execute_result"
    }
   ],
   "source": [
    "import numpy as np\n",
    "np.gcd(23,45)"
   ]
  },
  {
   "cell_type": "markdown",
   "id": "7858810a-c6e0-4178-a7b8-c59c391bc363",
   "metadata": {},
   "source": [
    "34. Build a program that performs matrix multiplication "
   ]
  },
  {
   "cell_type": "code",
   "execution_count": 39,
   "id": "2a8d5c92-4eb6-44d5-8d91-2d18afdcb3e1",
   "metadata": {},
   "outputs": [
    {
     "name": "stdout",
     "output_type": "stream",
     "text": [
      "Printing elements of first matrix\n",
      "[[1 2]\n",
      " [3 4]]\n",
      "Printing elements of second matrix\n",
      "[[4 5]\n",
      " [6 7]]\n",
      "Addition of two matrix\n",
      "[[ 4 10]\n",
      " [18 28]]\n"
     ]
    }
   ],
   "source": [
    "import numpy as np\n",
    "A = np.array([[1, 2], [3, 4]])\n",
    "B = np.array([[4, 5], [6, 7]])\n",
    " \n",
    "print(\"Printing elements of first matrix\")\n",
    "print(A)\n",
    "print(\"Printing elements of second matrix\")\n",
    "print(B)\n",
    " \n",
    "# adding two matrix\n",
    "print(\"Addition of two matrix\")\n",
    "print(np.multiply(A, B))"
   ]
  },
  {
   "cell_type": "markdown",
   "id": "28963ed6-7139-4ecd-bd15-312245437d59",
   "metadata": {},
   "source": [
    "36. Write a program that generates Fibonacci numbers up to a specified term using iterative methods."
   ]
  },
  {
   "cell_type": "code",
   "execution_count": 41,
   "id": "4ceacd1b-711d-46dd-82f0-3edd673b9729",
   "metadata": {},
   "outputs": [
    {
     "name": "stdin",
     "output_type": "stream",
     "text": [
      "How many terms?  5\n"
     ]
    },
    {
     "name": "stdout",
     "output_type": "stream",
     "text": [
      "Fibonacci sequence:\n",
      "0\n",
      "1\n",
      "1\n",
      "2\n",
      "3\n"
     ]
    }
   ],
   "source": [
    "\n",
    "\n",
    "nterms = int(input(\"How many terms? \"))\n",
    "\n",
    "\n",
    "n1, n2 = 0, 1\n",
    "count = 0\n",
    "\n",
    "\n",
    "if nterms <= 0:\n",
    "    print(\"Please enter a positive integer\")\n",
    "\n",
    "elif nterms == 1:\n",
    "    print(\"Fibonacci sequence upto\",nterms,\":\")\n",
    "    print(n1)\n",
    "\n",
    "else:\n",
    "    print(\"Fibonacci sequence:\")\n",
    "    while count < nterms:\n",
    "        print(n1)\n",
    "        nth = n1 + n2\n",
    "       # update values\n",
    "        n1 = n2\n",
    "        n2 = nth\n",
    "        count += 1"
   ]
  },
  {
   "cell_type": "markdown",
   "id": "68ddbc52-1894-4354-ac5f-0ce2a74f970d",
   "metadata": {},
   "source": [
    "38. Create a program that generates a calendar for a given month and year using conditional statements."
   ]
  },
  {
   "cell_type": "code",
   "execution_count": 46,
   "id": "35e73955-c3e4-4c83-bf4f-2093bf62bd0d",
   "metadata": {},
   "outputs": [
    {
     "name": "stdin",
     "output_type": "stream",
     "text": [
      "Input the year :  2089\n",
      "Input the month :  7\n"
     ]
    },
    {
     "name": "stdout",
     "output_type": "stream",
     "text": [
      "     July 2089\n",
      "Mo Tu We Th Fr Sa Su\n",
      "             1  2  3\n",
      " 4  5  6  7  8  9 10\n",
      "11 12 13 14 15 16 17\n",
      "18 19 20 21 22 23 24\n",
      "25 26 27 28 29 30 31\n",
      "\n"
     ]
    }
   ],
   "source": [
    "import calendar\n",
    "y = int(input(\"Input the year : \"))\n",
    "m = int(input(\"Input the month : \"))\n",
    "print(calendar.month(y,m))\n"
   ]
  },
  {
   "cell_type": "markdown",
   "id": "bb4548f1-6add-4147-ac35-410636bbc3fc",
   "metadata": {},
   "source": [
    "40. Write a program that generates the prime factors of a given number using trial division."
   ]
  },
  {
   "cell_type": "code",
   "execution_count": 47,
   "id": "a16cd152-3cb6-4956-b5e3-fbdf18256ee3",
   "metadata": {},
   "outputs": [
    {
     "name": "stdout",
     "output_type": "stream",
     "text": [
      "Composite\n"
     ]
    }
   ],
   "source": [
    "def TrialDivision(N):\n",
    " \n",
    "\n",
    "    i = 2\n",
    " \n",
    "\n",
    "    k = int(N ** 0.5)\n",
    " \n",
    " \n",
    "    while(i<= k):\n",
    " \n",
    "      \n",
    "        if(N % i == 0):\n",
    "            return 0\n",
    "        i += 1\n",
    " \n",
    "    return 1\n",
    "     \n",
    "# Driver code\n",
    "if __name__ == \"__main__\":\n",
    "    N = 49\n",
    "    p = TrialDivision(N)\n",
    " \n",
    "\n",
    "    if(p):\n",
    "        print(\"Prime\")\n",
    "    else:\n",
    "        print(\"Composite\")\n",
    "        "
   ]
  }
 ],
 "metadata": {
  "kernelspec": {
   "display_name": "Python 3 (ipykernel)",
   "language": "python",
   "name": "python3"
  },
  "language_info": {
   "codemirror_mode": {
    "name": "ipython",
    "version": 3
   },
   "file_extension": ".py",
   "mimetype": "text/x-python",
   "name": "python",
   "nbconvert_exporter": "python",
   "pygments_lexer": "ipython3",
   "version": "3.10.8"
  }
 },
 "nbformat": 4,
 "nbformat_minor": 5
}
